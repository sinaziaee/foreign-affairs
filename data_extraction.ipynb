{
  "cells": [
    {
      "cell_type": "markdown",
      "source": [
        "# Import the libraries"
      ],
      "metadata": {
        "id": "DPClbhG2IJ_X"
      }
    },
    {
      "cell_type": "code",
      "execution_count": null,
      "metadata": {
        "id": "U0l_Mm9tdfX9"
      },
      "outputs": [],
      "source": [
        "# !pip install tweeterpy\n",
        "# !pip install facebook-scraper\n",
        "# !pip install instaloader"
      ]
    },
    {
      "cell_type": "code",
      "execution_count": 1,
      "metadata": {
        "id": "SMTj9KxJLuuz"
      },
      "outputs": [],
      "source": [
        "import os\n",
        "import tweepy as tw\n",
        "import pandas as pd\n",
        "import numpy as np\n",
        "from datetime import datetime, timedelta\n",
        "from tkinter import *\n",
        "import base64\n",
        "import json\n",
        "import io\n",
        "import csv\n",
        "from tkinter import messagebox\n",
        "import tkinter.font as font\n",
        "from tweeterpy import TweeterPy\n",
        "from facebook_scraper import get_profile\n",
        "import instaloader\n",
        "from instaloader import *\n",
        "import time\n",
        "import pickle\n",
        "from datetime import datetime\n",
        "from itertools import dropwhile, takewhile\n",
        "import random\n",
        "from instaloader import ConnectionException, QueryReturnedBadRequestException"
      ]
    },
    {
      "cell_type": "markdown",
      "metadata": {
        "id": "X4evBZZdqnrE"
      },
      "source": [
        "# Loading the dataset"
      ]
    },
    {
      "cell_type": "code",
      "execution_count": 2,
      "metadata": {
        "id": "-RxYloCCqleD"
      },
      "outputs": [],
      "source": [
        "df = pd.read_excel('state_media_on_social_media_platforms.xlsx')"
      ]
    },
    {
      "cell_type": "code",
      "execution_count": 3,
      "metadata": {
        "id": "zx2-XnU5um-x"
      },
      "outputs": [],
      "source": [
        "def export_to_csv(filename, row):\n",
        "    with io.open(filename, 'a+', encoding='utf-8', newline='') as file:\n",
        "      writer = csv.writer(file)\n",
        "      writer.writerows(row)"
      ]
    },
    {
      "cell_type": "code",
      "execution_count": 12,
      "metadata": {
        "id": "cjd7mQBSr1os"
      },
      "outputs": [],
      "source": [
        "# twitter usernames\n",
        "twitter_usernames = list(df[~np.isnan(df['X (Twitter) Follower #'])]['X (Twitter) handle'].values)"
      ]
    },
    {
      "cell_type": "code",
      "source": [
        "facebook_usernames = []\n",
        "for i in df['Facebook page'].values:\n",
        "  if type(i) != float:\n",
        "    facebook_usernames.append(i)\n",
        "len(facebook_usernames)"
      ],
      "metadata": {
        "id": "FGwBBz2k15wJ"
      },
      "execution_count": null,
      "outputs": []
    },
    {
      "cell_type": "code",
      "source": [
        "insta_usernames = []\n",
        "for i in df['Instragram page'].values:\n",
        "  if type(i) != float:\n",
        "    insta_usernames.append(i)\n",
        "len(insta_usernames)"
      ],
      "metadata": {
        "id": "FyvCcWxZyO73"
      },
      "execution_count": null,
      "outputs": []
    },
    {
      "cell_type": "markdown",
      "source": [
        "# Twitter"
      ],
      "metadata": {
        "id": "pmB_dIhOzBZL"
      }
    },
    {
      "cell_type": "markdown",
      "source": [
        "## Login into Twitter"
      ],
      "metadata": {
        "id": "xWxoFfctINUP"
      }
    },
    {
      "cell_type": "code",
      "execution_count": null,
      "metadata": {
        "colab": {
          "base_uri": "https://localhost:8080/"
        },
        "id": "yA-QjSfP9_N-",
        "outputId": "052b8034-7d5c-4731-8999-3d07360f1c9f"
      },
      "outputs": [
        {
          "output_type": "stream",
          "name": "stdout",
          "text": [
            "\n",
            "Please Wait... Logging In...\n",
            "\n",
            "2023-11-19 08:23:39,224 [\u001b[0;33mWARNING\u001b[0m] :: Couldn't generate features for request variables.\n",
            "Welcome SajadDadgar98 : Successfully Logged In.\n"
          ]
        }
      ],
      "source": [
        "twitter = TweeterPy()\n",
        "twitter.login(\"***\",\"***\")"
      ]
    },
    {
      "cell_type": "markdown",
      "metadata": {
        "id": "5aXSivzgrJJg"
      },
      "source": [
        "## Saving Twitter information of all users in CSV"
      ]
    },
    {
      "cell_type": "code",
      "execution_count": null,
      "metadata": {
        "id": "i4yAVYY4uXfj"
      },
      "outputs": [],
      "source": [
        "# csv header\n",
        "header = [['user_id', 'username', 'is_blue_verified', 'created_at', 'description', 'followers_count', 'following_count', 'tweet_num']]\n",
        "export_to_csv('user info (twitter).csv', header)"
      ]
    },
    {
      "cell_type": "code",
      "source": [
        "c = 0\n",
        "for username in twitter_usernames:\n",
        "  c+=1\n",
        "  try:\n",
        "    user_info = twitter.get_user_info(twitter.get_user_id(username))\n",
        "    data = [[user_info['rest_id'], username, user_info['is_blue_verified'], user_info['legacy']['created_at'],\n",
        "          user_info['legacy']['description'], user_info['legacy']['followers_count'],\n",
        "          user_info['legacy']['friends_count'], user_info['legacy']['statuses_count']]]\n",
        "    export_to_csv('user info (twitter).csv', data)\n",
        "    print(c)\n",
        "  except:\n",
        "    print('*'*100)"
      ],
      "metadata": {
        "id": "hII9YxxpzcbH"
      },
      "execution_count": null,
      "outputs": []
    },
    {
      "cell_type": "markdown",
      "source": [
        "## Saving type of accounts in twitter"
      ],
      "metadata": {
        "id": "exV_4wmNO8O9"
      }
    },
    {
      "cell_type": "code",
      "source": [
        "c = 0\n",
        "for username in twitter_usernames:\n",
        "  c+=1\n",
        "  try:\n",
        "    user_info = twitter.get_user_info(twitter.get_user_id(username))\n",
        "    account_type = user_info['professional']['category'][0]['name']\n",
        "    data = [[username, account_type]]\n",
        "  except:\n",
        "    data = [[username, 'N/A']]\n",
        "  finally:\n",
        "    export_to_csv('account types (twitter).csv', data)\n",
        "    print(c)"
      ],
      "metadata": {
        "id": "e2WrojqkPC0u"
      },
      "execution_count": null,
      "outputs": []
    },
    {
      "cell_type": "markdown",
      "source": [
        "## Saving users' location"
      ],
      "metadata": {
        "id": "tEli9EB-sOFz"
      }
    },
    {
      "cell_type": "code",
      "source": [
        "c = 0\n",
        "header = [['username', 'location']]\n",
        "export_to_csv('user locations (twitter).csv', header)\n",
        "\n",
        "for username in twitter_usernames:\n",
        "  c+=1\n",
        "  try:\n",
        "    user_info = twitter.get_user_info(twitter.get_user_id(username))\n",
        "    location = user_info['legacy']['location']\n",
        "    data = [[username, location]]\n",
        "  except:\n",
        "    data = [[username, 'N/A']]\n",
        "  finally:\n",
        "    export_to_csv('user locations (twitter).csv', data)\n",
        "    print(c)"
      ],
      "metadata": {
        "id": "FxXmiGTQsRU6"
      },
      "execution_count": null,
      "outputs": []
    },
    {
      "cell_type": "markdown",
      "source": [
        "# Facebook"
      ],
      "metadata": {
        "id": "QVpTqzP-UcCJ"
      }
    },
    {
      "cell_type": "code",
      "source": [
        "c = 0\n",
        "header = [['username', 'contact', 'following_count', 'category']]\n",
        "export_to_csv('user info (facebook).csv', header)\n",
        "for username in facebook_usernames:\n",
        "  c+=1\n",
        "  try:\n",
        "    facebook_user = get_profile(username, cookies=\"www.facebook.com_cookies.txt\")\n",
        "    contact = facebook_user['Contact info']\n",
        "    following = facebook_user['Following_count']\n",
        "    category = facebook_user['Category']\n",
        "    data = [[username, contact, following, category]]\n",
        "    export_to_csv('user info (facebook).csv', data)\n",
        "    print(c)\n",
        "  except:\n",
        "    print('*'*100)"
      ],
      "metadata": {
        "id": "vLlrcY2A6RyW"
      },
      "execution_count": null,
      "outputs": []
    },
    {
      "cell_type": "markdown",
      "source": [
        "# Instagram"
      ],
      "metadata": {
        "id": "P_czo8Ez8xt1"
      }
    },
    {
      "cell_type": "code",
      "source": [
        "L = Instaloader()"
      ],
      "metadata": {
        "id": "e_21nptY9iC6"
      },
      "execution_count": 3,
      "outputs": []
    },
    {
      "cell_type": "code",
      "source": [
        "c = 0\n",
        "header = [['username', '# following', '# follower', 'category', 'bio']]\n",
        "export_to_csv('user info (Instagram).csv', header)\n",
        "for username in insta_usernames:\n",
        "  c+=1\n",
        "  try:\n",
        "\n",
        "    profile = instaloader.Profile.from_username(L.context, username)\n",
        "\n",
        "    is_verified = profile.is_verified\n",
        "    followees = profile.followees\n",
        "    followers = profile.followers\n",
        "    business_category_name = profile.business_category_name\n",
        "    biography = profile.biography\n",
        "    data = [[username, followees, followers, business_category_name, biography]]\n",
        "    export_to_csv('user info (Instagram).csv', data)\n",
        "    print(c)\n",
        "  except:\n",
        "    print('*'*100)"
      ],
      "metadata": {
        "id": "5Kx8v0ryBCMH"
      },
      "execution_count": null,
      "outputs": []
    }
  ],
  "metadata": {
    "colab": {
      "provenance": []
    },
    "kernelspec": {
      "display_name": "Python 3",
      "name": "python3"
    },
    "language_info": {
      "name": "python"
    }
  },
  "nbformat": 4,
  "nbformat_minor": 0
}