{
 "cells": [
  {
   "cell_type": "code",
   "execution_count": 1,
   "metadata": {},
   "outputs": [],
   "source": [
    "import numpy as np\n",
    "import pandas as pd\n",
    "import matplotlib.pyplot as plt\n",
    "import seaborn as sns\n",
    "import json\n",
    "import geopandas as gpd\n",
    "import utils\n",
    "from utils import util_functions"
   ]
  },
  {
   "cell_type": "code",
   "execution_count": 2,
   "metadata": {},
   "outputs": [
    {
     "name": "stderr",
     "output_type": "stream",
     "text": [
      "c:\\src\\jupyter_codes\\foreign-affairs\\utils\\util_functions.py:26: FutureWarning: Series.__getitem__ treating keys as positions is deprecated. In a future version, integer keys will always be treated as labels (consistent with DataFrame behavior). To access a value by position, use `ser.iloc[pos]`\n",
      "  country_list = df['focus group'][idx]\n"
     ]
    }
   ],
   "source": [
    "df, twi_df = util_functions.get_processed_merged_data()"
   ]
  },
  {
   "cell_type": "code",
   "execution_count": 44,
   "metadata": {},
   "outputs": [],
   "source": [
    "with open('findings/country_corps.json', 'r') as file:\n",
    "    country_info_dict = json.load(file)"
   ]
  },
  {
   "cell_type": "code",
   "execution_count": 47,
   "metadata": {},
   "outputs": [
    {
     "data": {
      "text/plain": [
       "239"
      ]
     },
     "execution_count": 47,
     "metadata": {},
     "output_type": "execute_result"
    }
   ],
   "source": [
    "len(country_info_dict['Australia']['name'])"
   ]
  },
  {
   "cell_type": "code",
   "execution_count": 8,
   "metadata": {},
   "outputs": [
    {
     "data": {
      "text/plain": [
       "30186031.0"
      ]
     },
     "execution_count": 8,
     "metadata": {},
     "output_type": "execute_result"
    }
   ],
   "source": [
    "df['Instagram Follower #'].sum()\n",
    "df['']"
   ]
  },
  {
   "cell_type": "code",
   "execution_count": 11,
   "metadata": {},
   "outputs": [
    {
     "name": "stdout",
     "output_type": "stream",
     "text": [
      "1.05 B\n",
      "70.34 M\n"
     ]
    }
   ],
   "source": [
    "def generate_visual_numbers(num):\n",
    "    if int(num /1000000000) > 0:\n",
    "        bil = num /1000000000\n",
    "        print(f'{bil:.2f} B')\n",
    "    else:\n",
    "        mil = num/1000000\n",
    "        print(f'{mil:.2f} M')\n",
    "generate_visual_numbers(1047829628)\n",
    "generate_visual_numbers(70344703)"
   ]
  },
  {
   "cell_type": "code",
   "execution_count": 3,
   "metadata": {},
   "outputs": [],
   "source": [
    "util_functions.generate_corps_data(df)"
   ]
  },
  {
   "cell_type": "code",
   "execution_count": 4,
   "metadata": {},
   "outputs": [
    {
     "data": {
      "text/plain": [
       "{'name': 758,\n",
       " 'owner': 87,\n",
       " 'parent': 69,\n",
       " 'twitter': 574,\n",
       " 'twitter_fol': 70344703,\n",
       " 'tiktok': 121,\n",
       " 'tiktok_fol': 20230414,\n",
       " 'instagram': 140,\n",
       " 'instagram_fol': 14787228,\n",
       " 'youtube': 158,\n",
       " 'youtube_fol': 30186031,\n",
       " 'facebook': 325,\n",
       " 'facebook_fol': 1047829628,\n",
       " 'total': 759}"
      ]
     },
     "execution_count": 4,
     "metadata": {},
     "output_type": "execute_result"
    }
   ],
   "source": [
    "corp_dict = util_functions.load_file('findings/corp_data.json')\n",
    "corp_dict"
   ]
  },
  {
   "cell_type": "code",
   "execution_count": null,
   "metadata": {},
   "outputs": [],
   "source": []
  },
  {
   "cell_type": "markdown",
   "metadata": {},
   "source": [
    "## Rest"
   ]
  },
  {
   "cell_type": "code",
   "execution_count": null,
   "metadata": {},
   "outputs": [],
   "source": [
    "df.columns"
   ]
  },
  {
   "cell_type": "code",
   "execution_count": 3,
   "metadata": {},
   "outputs": [
    {
     "data": {
      "text/html": [
       "<div>\n",
       "<style scoped>\n",
       "    .dataframe tbody tr th:only-of-type {\n",
       "        vertical-align: middle;\n",
       "    }\n",
       "\n",
       "    .dataframe tbody tr th {\n",
       "        vertical-align: top;\n",
       "    }\n",
       "\n",
       "    .dataframe thead th {\n",
       "        text-align: right;\n",
       "    }\n",
       "</style>\n",
       "<table border=\"1\" class=\"dataframe\">\n",
       "  <thead>\n",
       "    <tr style=\"text-align: right;\">\n",
       "      <th></th>\n",
       "      <th>Region of Focus</th>\n",
       "      <th>Language</th>\n",
       "      <th>Entity owner (English)</th>\n",
       "      <th>Parent entity (English)</th>\n",
       "      <th>X (Twitter) handle</th>\n",
       "      <th>X (Twitter) URL</th>\n",
       "      <th>X (Twitter) Follower #</th>\n",
       "      <th>Facebook page</th>\n",
       "      <th>Facebook URL</th>\n",
       "      <th>Facebook Follower #</th>\n",
       "      <th>...</th>\n",
       "      <th>TikTok Subscriber #</th>\n",
       "      <th>Name (English)</th>\n",
       "      <th>focus group</th>\n",
       "      <th>is_blue_verified</th>\n",
       "      <th>created_at</th>\n",
       "      <th>followers_count</th>\n",
       "      <th>following_count</th>\n",
       "      <th>tweet_num</th>\n",
       "      <th>followers_following_ratio</th>\n",
       "      <th>formatted_created_at</th>\n",
       "    </tr>\n",
       "  </thead>\n",
       "  <tbody>\n",
       "    <tr>\n",
       "      <th>0</th>\n",
       "      <td>Anglosphere</td>\n",
       "      <td>English</td>\n",
       "      <td>China Media Group (CMG)</td>\n",
       "      <td>Central Publicity Department</td>\n",
       "      <td>_bubblyabby_</td>\n",
       "      <td>https://twitter.com/_bubblyabby_</td>\n",
       "      <td>1678.0</td>\n",
       "      <td>itsAbby-103043374799622</td>\n",
       "      <td>https://www.facebook.com/itsAbby-103043374799622</td>\n",
       "      <td>1387432.0</td>\n",
       "      <td>...</td>\n",
       "      <td>660.0</td>\n",
       "      <td>Yang Xinmeng (Abby Yang)</td>\n",
       "      <td>[Australia, Canada, New Zealand, United Kingdo...</td>\n",
       "      <td>True</td>\n",
       "      <td>2014-07-10 02:05:08</td>\n",
       "      <td>2799.0</td>\n",
       "      <td>161.0</td>\n",
       "      <td>851.0</td>\n",
       "      <td>17.385093</td>\n",
       "      <td>2014-07-10</td>\n",
       "    </tr>\n",
       "  </tbody>\n",
       "</table>\n",
       "<p>1 rows × 31 columns</p>\n",
       "</div>"
      ],
      "text/plain": [
       "  Region of Focus Language   Entity owner (English)  \\\n",
       "0     Anglosphere  English  China Media Group (CMG)   \n",
       "\n",
       "        Parent entity (English) X (Twitter) handle  \\\n",
       "0  Central Publicity Department       _bubblyabby_   \n",
       "\n",
       "                    X (Twitter) URL  X (Twitter) Follower #  \\\n",
       "0  https://twitter.com/_bubblyabby_                  1678.0   \n",
       "\n",
       "             Facebook page                                      Facebook URL  \\\n",
       "0  itsAbby-103043374799622  https://www.facebook.com/itsAbby-103043374799622   \n",
       "\n",
       "   Facebook Follower #  ... TikTok Subscriber #            Name (English)  \\\n",
       "0            1387432.0  ...               660.0  Yang Xinmeng (Abby Yang)   \n",
       "\n",
       "                                         focus group is_blue_verified  \\\n",
       "0  [Australia, Canada, New Zealand, United Kingdo...             True   \n",
       "\n",
       "           created_at  followers_count following_count tweet_num  \\\n",
       "0 2014-07-10 02:05:08           2799.0           161.0     851.0   \n",
       "\n",
       "   followers_following_ratio formatted_created_at  \n",
       "0                  17.385093           2014-07-10  \n",
       "\n",
       "[1 rows x 31 columns]"
      ]
     },
     "execution_count": 3,
     "metadata": {},
     "output_type": "execute_result"
    }
   ],
   "source": [
    "df.head(1)"
   ]
  },
  {
   "cell_type": "code",
   "execution_count": 4,
   "metadata": {},
   "outputs": [
    {
     "data": {
      "text/html": [
       "<div>\n",
       "<style scoped>\n",
       "    .dataframe tbody tr th:only-of-type {\n",
       "        vertical-align: middle;\n",
       "    }\n",
       "\n",
       "    .dataframe tbody tr th {\n",
       "        vertical-align: top;\n",
       "    }\n",
       "\n",
       "    .dataframe thead th {\n",
       "        text-align: right;\n",
       "    }\n",
       "</style>\n",
       "<table border=\"1\" class=\"dataframe\">\n",
       "  <thead>\n",
       "    <tr style=\"text-align: right;\">\n",
       "      <th></th>\n",
       "      <th>Name</th>\n",
       "      <th>Value</th>\n",
       "    </tr>\n",
       "  </thead>\n",
       "  <tbody>\n",
       "    <tr>\n",
       "      <th>0</th>\n",
       "      <td>Is Verified</td>\n",
       "      <td>443</td>\n",
       "    </tr>\n",
       "    <tr>\n",
       "      <th>1</th>\n",
       "      <td>Is Not Verified</td>\n",
       "      <td>204</td>\n",
       "    </tr>\n",
       "    <tr>\n",
       "      <th>2</th>\n",
       "      <td>N/A</td>\n",
       "      <td>111</td>\n",
       "    </tr>\n",
       "  </tbody>\n",
       "</table>\n",
       "</div>"
      ],
      "text/plain": [
       "              Name  Value\n",
       "0      Is Verified    443\n",
       "1  Is Not Verified    204\n",
       "2              N/A    111"
      ]
     },
     "execution_count": 4,
     "metadata": {},
     "output_type": "execute_result"
    }
   ],
   "source": [
    "temp_series = df['is_blue_verified'].value_counts(dropna=False)\n",
    "temp_df = pd.DataFrame({'Name': [\"Is Verified\", \"Is Not Verified\", \"N/A\"], 'Value': list(temp_series.values)})\n",
    "temp_df"
   ]
  },
  {
   "cell_type": "code",
   "execution_count": 5,
   "metadata": {},
   "outputs": [
    {
     "data": {
      "text/plain": [
       "[False, nan, True]"
      ]
     },
     "execution_count": 5,
     "metadata": {},
     "output_type": "execute_result"
    }
   ],
   "source": [
    "list(temp_series.index)"
   ]
  },
  {
   "cell_type": "code",
   "execution_count": 6,
   "metadata": {},
   "outputs": [],
   "source": [
    "temp_df = pd.DataFrame({'Name': [], 'Value': []})"
   ]
  },
  {
   "cell_type": "code",
   "execution_count": null,
   "metadata": {},
   "outputs": [],
   "source": []
  }
 ],
 "metadata": {
  "kernelspec": {
   "display_name": "test",
   "language": "python",
   "name": "python3"
  },
  "language_info": {
   "codemirror_mode": {
    "name": "ipython",
    "version": 3
   },
   "file_extension": ".py",
   "mimetype": "text/x-python",
   "name": "python",
   "nbconvert_exporter": "python",
   "pygments_lexer": "ipython3",
   "version": "3.10.13"
  }
 },
 "nbformat": 4,
 "nbformat_minor": 2
}
