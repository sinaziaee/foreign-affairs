{
 "cells": [
  {
   "cell_type": "code",
   "execution_count": 1,
   "metadata": {},
   "outputs": [],
   "source": [
    "import numpy as np\n",
    "import pandas as pd\n",
    "import matplotlib.pyplot as plt\n",
    "import seaborn as sns\n",
    "import json\n",
    "import geopandas as gpd\n",
    "import utils\n",
    "from utils import util_functions"
   ]
  },
  {
   "cell_type": "code",
   "execution_count": 2,
   "metadata": {},
   "outputs": [],
   "source": [
    "df_path = 'dataset/state_media_on_social_media_platforms.xlsx'\n",
    "# loading the dataset\n",
    "df = pd.read_excel(df_path, index_col='Name (English)')\n",
    "# Load JSON data from file\n",
    "with open('assets/recognized_countries.json', 'r') as file:\n",
    "    data = json.load(file)\n",
    "recognized_countries = data\n",
    "\n",
    "with open('assets/equivalent_countries.json', 'r') as file:\n",
    "    data = json.load(file)\n",
    "equivalent_countries_dict = data"
   ]
  },
  {
   "cell_type": "code",
   "execution_count": 3,
   "metadata": {},
   "outputs": [
    {
     "name": "stderr",
     "output_type": "stream",
     "text": [
      "c:\\src\\jupyter_codes\\foreign-affairs\\utils\\util_functions.py:25: FutureWarning: Series.__getitem__ treating keys as positions is deprecated. In a future version, integer keys will always be treated as labels (consistent with DataFrame behavior). To access a value by position, use `ser.iloc[pos]`\n",
      "  country_list = df['focus group'][idx]\n"
     ]
    }
   ],
   "source": [
    "country_focus_count_dict = util_functions.find_country_focus_count_dictionary(df, recognized_countries, equivalent_countries_dict)"
   ]
  },
  {
   "cell_type": "code",
   "execution_count": 4,
   "metadata": {},
   "outputs": [
    {
     "data": {
      "text/html": [
       "<div>\n",
       "<style scoped>\n",
       "    .dataframe tbody tr th:only-of-type {\n",
       "        vertical-align: middle;\n",
       "    }\n",
       "\n",
       "    .dataframe tbody tr th {\n",
       "        vertical-align: top;\n",
       "    }\n",
       "\n",
       "    .dataframe thead th {\n",
       "        text-align: right;\n",
       "    }\n",
       "</style>\n",
       "<table border=\"1\" class=\"dataframe\">\n",
       "  <thead>\n",
       "    <tr style=\"text-align: right;\">\n",
       "      <th></th>\n",
       "      <th>Region of Focus</th>\n",
       "      <th>Language</th>\n",
       "      <th>Entity owner (English)</th>\n",
       "      <th>Parent entity (English)</th>\n",
       "      <th>X (Twitter) handle</th>\n",
       "      <th>X (Twitter) URL</th>\n",
       "      <th>X (Twitter) Follower #</th>\n",
       "      <th>Facebook page</th>\n",
       "      <th>Facebook URL</th>\n",
       "      <th>Facebook Follower #</th>\n",
       "      <th>...</th>\n",
       "      <th>Threads account</th>\n",
       "      <th>Threads URL</th>\n",
       "      <th>Threads Follower #</th>\n",
       "      <th>YouTube account</th>\n",
       "      <th>YouTube URL</th>\n",
       "      <th>YouTube Subscriber #</th>\n",
       "      <th>TikTok account</th>\n",
       "      <th>TikTok URL</th>\n",
       "      <th>TikTok Subscriber #</th>\n",
       "      <th>focus group</th>\n",
       "    </tr>\n",
       "    <tr>\n",
       "      <th>Name (English)</th>\n",
       "      <th></th>\n",
       "      <th></th>\n",
       "      <th></th>\n",
       "      <th></th>\n",
       "      <th></th>\n",
       "      <th></th>\n",
       "      <th></th>\n",
       "      <th></th>\n",
       "      <th></th>\n",
       "      <th></th>\n",
       "      <th></th>\n",
       "      <th></th>\n",
       "      <th></th>\n",
       "      <th></th>\n",
       "      <th></th>\n",
       "      <th></th>\n",
       "      <th></th>\n",
       "      <th></th>\n",
       "      <th></th>\n",
       "      <th></th>\n",
       "      <th></th>\n",
       "    </tr>\n",
       "  </thead>\n",
       "  <tbody>\n",
       "    <tr>\n",
       "      <th>Yang Xinmeng (Abby Yang)</th>\n",
       "      <td>Anglosphere</td>\n",
       "      <td>English</td>\n",
       "      <td>China Media Group (CMG)</td>\n",
       "      <td>Central Publicity Department</td>\n",
       "      <td>_bubblyabby_</td>\n",
       "      <td>https://twitter.com/_bubblyabby_</td>\n",
       "      <td>1678.0</td>\n",
       "      <td>itsAbby-103043374799622</td>\n",
       "      <td>https://www.facebook.com/itsAbby-103043374799622</td>\n",
       "      <td>1387432.0</td>\n",
       "      <td>...</td>\n",
       "      <td>_bubblyabby_</td>\n",
       "      <td>https://www.threads.net/@_bubblyabby_</td>\n",
       "      <td>197.0</td>\n",
       "      <td>itsAbby</td>\n",
       "      <td>https://www.youtube.com/itsAbby</td>\n",
       "      <td>4680.0</td>\n",
       "      <td>_bubblyabby_</td>\n",
       "      <td>https://www.tiktok.com/@_bubblyabby_</td>\n",
       "      <td>660.0</td>\n",
       "      <td>[Australia, Canada, New Zealand, United Kingdo...</td>\n",
       "    </tr>\n",
       "  </tbody>\n",
       "</table>\n",
       "<p>1 rows × 23 columns</p>\n",
       "</div>"
      ],
      "text/plain": [
       "                         Region of Focus Language   Entity owner (English)  \\\n",
       "Name (English)                                                               \n",
       "Yang Xinmeng (Abby Yang)     Anglosphere  English  China Media Group (CMG)   \n",
       "\n",
       "                               Parent entity (English) X (Twitter) handle  \\\n",
       "Name (English)                                                              \n",
       "Yang Xinmeng (Abby Yang)  Central Publicity Department       _bubblyabby_   \n",
       "\n",
       "                                           X (Twitter) URL  \\\n",
       "Name (English)                                               \n",
       "Yang Xinmeng (Abby Yang)  https://twitter.com/_bubblyabby_   \n",
       "\n",
       "                          X (Twitter) Follower #            Facebook page  \\\n",
       "Name (English)                                                              \n",
       "Yang Xinmeng (Abby Yang)                  1678.0  itsAbby-103043374799622   \n",
       "\n",
       "                                                              Facebook URL  \\\n",
       "Name (English)                                                               \n",
       "Yang Xinmeng (Abby Yang)  https://www.facebook.com/itsAbby-103043374799622   \n",
       "\n",
       "                          Facebook Follower #  ... Threads account  \\\n",
       "Name (English)                                 ...                   \n",
       "Yang Xinmeng (Abby Yang)            1387432.0  ...    _bubblyabby_   \n",
       "\n",
       "                                                    Threads URL  \\\n",
       "Name (English)                                                    \n",
       "Yang Xinmeng (Abby Yang)  https://www.threads.net/@_bubblyabby_   \n",
       "\n",
       "                          Threads Follower # YouTube account  \\\n",
       "Name (English)                                                 \n",
       "Yang Xinmeng (Abby Yang)               197.0         itsAbby   \n",
       "\n",
       "                                              YouTube URL  \\\n",
       "Name (English)                                              \n",
       "Yang Xinmeng (Abby Yang)  https://www.youtube.com/itsAbby   \n",
       "\n",
       "                          YouTube Subscriber # TikTok account  \\\n",
       "Name (English)                                                  \n",
       "Yang Xinmeng (Abby Yang)                4680.0   _bubblyabby_   \n",
       "\n",
       "                                                    TikTok URL  \\\n",
       "Name (English)                                                   \n",
       "Yang Xinmeng (Abby Yang)  https://www.tiktok.com/@_bubblyabby_   \n",
       "\n",
       "                          TikTok Subscriber #  \\\n",
       "Name (English)                                  \n",
       "Yang Xinmeng (Abby Yang)                660.0   \n",
       "\n",
       "                                                                focus group  \n",
       "Name (English)                                                               \n",
       "Yang Xinmeng (Abby Yang)  [Australia, Canada, New Zealand, United Kingdo...  \n",
       "\n",
       "[1 rows x 23 columns]"
      ]
     },
     "execution_count": 4,
     "metadata": {},
     "output_type": "execute_result"
    }
   ],
   "source": [
    "df = util_functions.data_preprocessor(df)\n",
    "df.head(1)"
   ]
  },
  {
   "cell_type": "code",
   "execution_count": 5,
   "metadata": {},
   "outputs": [],
   "source": [
    "language_usage_series = df['Language'].value_counts()"
   ]
  },
  {
   "cell_type": "code",
   "execution_count": 6,
   "metadata": {},
   "outputs": [
    {
     "data": {
      "text/plain": [
       "Name (English)\n",
       "CGTN                        13000000.0\n",
       "Xinhua News Agency          11900000.0\n",
       "People's Daily               6600000.0\n",
       "China Daily                  4100000.0\n",
       "Hua Chunying                 2200000.0\n",
       "                               ...    \n",
       "Ji Yuqiao                          3.0\n",
       "Zhang Lin (Melody Zhang)           3.0\n",
       "Love Jiaxing                       2.0\n",
       "CRI Mongolian                      0.0\n",
       "CGTN Inheritors                    0.0\n",
       "Name: X (Twitter) Follower #, Length: 573, dtype: float64"
      ]
     },
     "execution_count": 6,
     "metadata": {},
     "output_type": "execute_result"
    }
   ],
   "source": [
    "twitter_follower_series = df['X (Twitter) Follower #']\n",
    "twitter_follower_series = twitter_follower_series.dropna()\n",
    "twitter_follower_series.sort_values(ascending=False, inplace=True)\n",
    "twitter_follower_series"
   ]
  },
  {
   "cell_type": "code",
   "execution_count": 35,
   "metadata": {},
   "outputs": [],
   "source": [
    "column_list = ['Name (English)', 'Entity owner (English)', 'Parent entity (English)']\n",
    "\n",
    "unique_parents = df['Parent entity (English)'].unique()\n",
    "unique_owners = df['Entity owner (English)'].unique()\n",
    "unique_names = df.index\n",
    "df['Account Name'] = df.index\n",
    "\n",
    "edges = []\n",
    "nodes = []\n",
    "node_colors = dict()\n",
    "\n",
    "for owner in unique_owners:\n",
    "    # owner = 'China Media Group (CMG)'\n",
    "    if owner not in nodes:\n",
    "        nodes.append(owner)\n",
    "    to_node = owner\n",
    "    node_colors[to_node] = 'blue'\n",
    "    from_node = df[df['Entity owner (English)'] == owner]['Parent entity (English)'].unique()[0]\n",
    "    node_colors[from_node] = 'red'\n",
    "    if from_node not in nodes:\n",
    "        nodes.append(from_node)\n",
    "    # to nodes and from nodes are vise versa :)\n",
    "    edges.append((from_node, to_node))\n",
    "\n",
    "for account in unique_names:\n",
    "    # owner = 'China Media Group (CMG)'\n",
    "    if account not in nodes:\n",
    "        nodes.append(account)\n",
    "    to_node = account\n",
    "    node_colors[to_node] = 'green'\n",
    "    from_node = df[df['Account Name'] == account]['Entity owner (English)'].unique()[0]\n",
    "    # node_colors[from_node] = 'blue'\n",
    "    if from_node not in nodes:\n",
    "        nodes.append(from_node)\n",
    "    # to nodes and from nodes are vise versa :)\n",
    "    edges.append((from_node, to_node))\n",
    "    \n",
    "graph_dict = {\"nodes\": nodes, \"edges\": edges, 'node_colors': node_colors}\n",
    "util_functions.save_country_focus_count_dict_file(graph_dict, \"findings/account_owner_parent.json\")"
   ]
  },
  {
   "cell_type": "code",
   "execution_count": 36,
   "metadata": {},
   "outputs": [],
   "source": []
  },
  {
   "cell_type": "code",
   "execution_count": 37,
   "metadata": {},
   "outputs": [],
   "source": []
  },
  {
   "cell_type": "code",
   "execution_count": 9,
   "metadata": {},
   "outputs": [
    {
     "data": {
      "text/plain": [
       "Index(['Region of Focus', 'Language', 'Entity owner (English)',\n",
       "       'Parent entity (English)', 'X (Twitter) handle', 'X (Twitter) URL',\n",
       "       'X (Twitter) Follower #', 'Facebook page', 'Facebook URL',\n",
       "       'Facebook Follower #', 'Instragram page', 'Instagram URL',\n",
       "       'Instagram Follower #', 'Threads account', 'Threads URL',\n",
       "       'Threads Follower #', 'YouTube account', 'YouTube URL',\n",
       "       'YouTube Subscriber #', 'TikTok account', 'TikTok URL',\n",
       "       'TikTok Subscriber #', 'focus group'],\n",
       "      dtype='object')"
      ]
     },
     "execution_count": 9,
     "metadata": {},
     "output_type": "execute_result"
    }
   ],
   "source": [
    "df.columns"
   ]
  },
  {
   "cell_type": "code",
   "execution_count": null,
   "metadata": {},
   "outputs": [],
   "source": [
    "['X (Twitter) Follower #', 'Facebook Follower #', 'YouTube Subscriber #', 'Instagram Follower #', 'Threads Follower #', 'TikTok Subscriber #']"
   ]
  },
  {
   "cell_type": "code",
   "execution_count": 20,
   "metadata": {},
   "outputs": [
    {
     "data": {
      "text/plain": [
       "pandas.core.series.Series"
      ]
     },
     "execution_count": 20,
     "metadata": {},
     "output_type": "execute_result"
    }
   ],
   "source": [
    "type(twitter_follower_series)"
   ]
  },
  {
   "cell_type": "code",
   "execution_count": null,
   "metadata": {},
   "outputs": [],
   "source": []
  }
 ],
 "metadata": {
  "kernelspec": {
   "display_name": "test",
   "language": "python",
   "name": "python3"
  },
  "language_info": {
   "codemirror_mode": {
    "name": "ipython",
    "version": 3
   },
   "file_extension": ".py",
   "mimetype": "text/x-python",
   "name": "python",
   "nbconvert_exporter": "python",
   "pygments_lexer": "ipython3",
   "version": "3.10.13"
  }
 },
 "nbformat": 4,
 "nbformat_minor": 2
}
